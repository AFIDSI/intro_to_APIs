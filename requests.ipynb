{
 "cells": [
  {
   "cell_type": "markdown",
   "id": "collaborative-essay",
   "metadata": {},
   "source": [
    "# The requests library\n",
    "We'll start by importing the 'requests' library - one of the most commonly used libraries for making web requests in python - along with a few other libraries we'll utilize."
   ]
  },
  {
   "cell_type": "code",
   "execution_count": 21,
   "id": "spectacular-cartoon",
   "metadata": {},
   "outputs": [
    {
     "name": "stdout",
     "output_type": "stream",
     "text": [
      "Requirement already satisfied: requests in ./DS875/lib/python3.8/site-packages (2.25.1)\n",
      "Requirement already satisfied: certifi>=2017.4.17 in ./DS875/lib/python3.8/site-packages (from requests) (2020.12.5)\n",
      "Requirement already satisfied: urllib3<1.27,>=1.21.1 in ./DS875/lib/python3.8/site-packages (from requests) (1.26.4)\n",
      "Requirement already satisfied: idna<3,>=2.5 in ./DS875/lib/python3.8/site-packages (from requests) (2.10)\n",
      "Requirement already satisfied: chardet<5,>=3.0.2 in ./DS875/lib/python3.8/site-packages (from requests) (4.0.0)\n"
     ]
    }
   ],
   "source": [
    "import requests\n",
    "from pprint import pprint"
   ]
  },
  {
   "cell_type": "markdown",
   "id": "healthy-protection",
   "metadata": {},
   "source": [
    "Once that library is installed, we can use it to request a web resource - in this case we'll implement the `requests` library we just imported using the `requests.get()` function in order to request content from the site www.example.com.\n",
    "\n",
    "In the cell below, we'll just specify the url of the page - as it doesn't require any header "
   ]
  },
  {
   "cell_type": "code",
   "execution_count": 5,
   "id": "separated-russia",
   "metadata": {},
   "outputs": [],
   "source": [
    "response = requests.get('http://www.example.com')"
   ]
  },
  {
   "cell_type": "code",
   "execution_count": 19,
   "id": "polish-local",
   "metadata": {},
   "outputs": [
    {
     "name": "stdout",
     "output_type": "stream",
     "text": [
      "('<!doctype html>\\n'\n",
      " '<html>\\n'\n",
      " '<head>\\n'\n",
      " '    <title>Example Domain</title>\\n'\n",
      " '\\n'\n",
      " '    <meta charset=\"utf-8\" />\\n'\n",
      " '    <meta http-equiv=\"Content-type\" content=\"text/html; charset=utf-8\" />\\n'\n",
      " '    <meta name=\"viewport\" content=\"width=device-width, initial-scale=1\" />\\n'\n",
      " '    <style type=\"text/css\">\\n'\n",
      " '    body {\\n'\n",
      " '        background-color: #f0f0f2;\\n'\n",
      " '        margin: 0;\\n'\n",
      " '        padding: 0;\\n'\n",
      " '        font-family: -apple-system, system-ui, BlinkMacSystemFont, \"Segoe '\n",
      " 'UI\", \"Open Sans\", \"Helvetica Neue\", Helvetica, Arial, sans-serif;\\n'\n",
      " '        \\n'\n",
      " '    }\\n'\n",
      " '    div {\\n'\n",
      " '        width: 600px;\\n'\n",
      " '        margin: 5em auto;\\n'\n",
      " '        padding: 2em;\\n'\n",
      " '        background-color: #fdfdff;\\n'\n",
      " '        border-radius: 0.5em;\\n'\n",
      " '        box-shadow: 2px 3px 7px 2px rgba(0,0,0,0.02);\\n'\n",
      " '    }\\n'\n",
      " '    a:link, a:visited {\\n'\n",
      " '        color: #38488f;\\n'\n",
      " '        text-decoration: none;\\n'\n",
      " '    }\\n'\n",
      " '    @media (max-width: 700px) {\\n'\n",
      " '        div {\\n'\n",
      " '            margin: 0 auto;\\n'\n",
      " '            width: auto;\\n'\n",
      " '        }\\n'\n",
      " '    }\\n'\n",
      " '    </style>    \\n'\n",
      " '</head>\\n'\n",
      " '\\n'\n",
      " '<body>\\n'\n",
      " '<div>\\n'\n",
      " '    <h1>Example Domain</h1>\\n'\n",
      " '    <p>This domain is for use in illustrative examples in documents. You may '\n",
      " 'use this\\n'\n",
      " '    domain in literature without prior coordination or asking for '\n",
      " 'permission.</p>\\n'\n",
      " '    <p><a href=\"https://www.iana.org/domains/example\">More '\n",
      " 'information...</a></p>\\n'\n",
      " '</div>\\n'\n",
      " '</body>\\n'\n",
      " '</html>\\n')\n"
     ]
    }
   ],
   "source": [
    "pprint.pprint(response.text)"
   ]
  },
  {
   "cell_type": "code",
   "execution_count": null,
   "id": "excited-resistance",
   "metadata": {},
   "outputs": [],
   "source": []
  }
 ],
 "metadata": {
  "kernelspec": {
   "display_name": "DS875",
   "language": "python",
   "name": "ds875"
  },
  "language_info": {
   "codemirror_mode": {
    "name": "ipython",
    "version": 3
   },
   "file_extension": ".py",
   "mimetype": "text/x-python",
   "name": "python",
   "nbconvert_exporter": "python",
   "pygments_lexer": "ipython3",
   "version": "3.8.5"
  }
 },
 "nbformat": 4,
 "nbformat_minor": 5
}
